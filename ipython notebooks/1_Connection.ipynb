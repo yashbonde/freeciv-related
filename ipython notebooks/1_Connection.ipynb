{
 "cells": [
  {
   "cell_type": "markdown",
   "metadata": {},
   "source": [
    "# Freeciv Connection\n",
    "\n",
    "For this iteration I am trying to connect to the freeciv-desktop server running locally on my machine. This notebook is written to establish rules for connection and how to work further in establishing the communication side. Once this part is established we can proceed to using of information and then eventual deep learning support. This also happens to be the first step and thus the name `1_Connection.ipynb`\n",
    "\n",
    "## Goals\n",
    "\n",
    "Goals for this notebook are simple:\n",
    "1. establish connection to freeciv-server running locally\n",
    "2. transfer relevant information and document the signals\n",
    "3. establish how to use those signals in the most effective manner possible"
   ]
  },
  {
   "cell_type": "markdown",
   "metadata": {},
   "source": [
    "## LOGS\n",
    "\n",
    "**29.12.2018:** Start writing this notebook."
   ]
  },
  {
   "cell_type": "markdown",
   "metadata": {},
   "source": [
    "## Basics\n",
    "\n",
    "What I need to first start with is learning how to communicate with the locally running server. In another implementation for connecting to freeciv server that I read `tornado` was used to communicate, though that might have handled the job well, this thing is very new to me. I am starting by using sockets, which is what is used to connect two nodes. One node listens to a particular IP and node while the other node sends out information to connect to the node.\n",
    "\n",
    "Here we first make the socket, then resolve host IP and then connect to it from a particular port. [IBM](https://developer.ibm.com/tutorials/l-pysocks/) has a great tutorial on it."
   ]
  },
  {
   "cell_type": "code",
   "execution_count": 1,
   "metadata": {},
   "outputs": [],
   "source": [
    "# importing the dependencies\n",
    "import socket"
   ]
  },
  {
   "cell_type": "code",
   "execution_count": 3,
   "metadata": {},
   "outputs": [
    {
     "name": "stdout",
     "output_type": "stream",
     "text": [
      "Socket successfully created\n",
      "the socket has successfully connected to IBM on port == 104.120.84.241\n"
     ]
    }
   ],
   "source": [
    "# establish socket\n",
    "try: \n",
    "    s = socket.socket(socket.AF_INET, socket.SOCK_STREAM) \n",
    "    print(\"Socket successfully created\")\n",
    "except socket.error as err: \n",
    "    print(\"socket creation failed with error:\", err) \n",
    "    \n",
    "# default port for socket \n",
    "port = 80\n",
    "  \n",
    "try: \n",
    "    host_ip = socket.gethostbyname('www.ibm.com')\n",
    "except socket.gaierror:\n",
    "    # this means could not resolve the host \n",
    "    print(\"there was an error resolving the host\")\n",
    "    \n",
    "# connecting to the server \n",
    "s.connect((host_ip, port)) \n",
    "\n",
    "print(\"the socket has successfully connected to IBM on port ==\", host_ip)\n",
    "s.close()"
   ]
  },
  {
   "cell_type": "markdown",
   "metadata": {},
   "source": [
    "### Connecting to freeciv\n",
    "\n",
    "I have a freeciv-desktop server running locally on my system at `port 5000` this is what I am genereally running it on to avoid any ambiguity. Note that the `--debug=4` and we are getting information from the log dumps, one for server and one for client."
   ]
  },
  {
   "cell_type": "code",
   "execution_count": 7,
   "metadata": {},
   "outputs": [],
   "source": [
    "# establish socket\n",
    "try: \n",
    "    s = socket.socket(socket.AF_INET, socket.SOCK_STREAM)\n",
    "except socket.error as err: \n",
    "    print(\"socket creation failed with error:\", err)\n",
    "    \n",
    "# port\n",
    "PORT_FC = 5000\n",
    "\n",
    "# connection\n",
    "s.connect((socket.gethostbyname('localhost'), PORT_FC))"
   ]
  },
  {
   "cell_type": "markdown",
   "metadata": {},
   "source": [
    "We were able to connect and are getting response like this (from server log):\n",
    "\n",
    "```\n",
    "4: in server_sniff_all_input() [sernet.c::766]: got new connection\n",
    "4: in server_make_connection() [sernet.c::1073]: connection (c8) from localhost (127.0.0.1)\n",
    "4: in server_sniff_all_input() [sernet.c::629]: connection (c8 from localhost (connection incomplete)) cut due to ping timeout\n",
    "```"
   ]
  },
  {
   "cell_type": "markdown",
   "metadata": {},
   "source": [
    "#### PACKET STRUCTURE\n",
    "\n",
    "All the packet related information is given in the file `packets.def` including structure of different packets and in the order the packets should be sent. This notebook has many details directly copied from that file. The first packet that is sent for connection is `PACKET_SERVER_JOIN_REQ` and the structure is as follows:\n",
    "\n",
    "```\n",
    "PACKET_SERVER_JOIN_REQ = 4; cs, dsend, no-delta, no-handle\n",
    "    STRING username[48];\n",
    "    STRING capability[512];\n",
    "    STRING version_label[48];\n",
    "    UINT32 major_version, minor_version, patch_version;\n",
    "end\n",
    "```\n",
    "\n",
    "So let's try to make a similar packet in python and then send it over to server. Problem right now is finding the `capability` and other such parameters, one way to solve this is by brute force searching for it using search option in our GUI systems.By doing this I found that\n",
    "```\n",
    "The actual capability string is now defined in fc_version = \"3.0.91-dev\"\n",
    "version_label = \"-dev\"\n",
    "major_version = 3\n",
    "minor_version = 0\n",
    "patch_version = 91\n",
    "```\n",
    "Version information is given in `fc_version` file."
   ]
  },
  {
   "cell_type": "code",
   "execution_count": 8,
   "metadata": {},
   "outputs": [
    {
     "name": "stdout",
     "output_type": "stream",
     "text": [
      "b'pehla 3.0.91-dev -dev 3 0 91'\n"
     ]
    }
   ],
   "source": [
    "username = 'pehla'\n",
    "capability = '3.0.91-dev'\n",
    "version_label = '-dev'\n",
    "major_version = '3'\n",
    "minor_version = '0'\n",
    "patch_version = '91'\n",
    "\n",
    "fields = [username, capability, version_label, major_version, minor_version, patch_version]\n",
    "\n",
    "text_ = bytes(' '.join(fields), 'utf-8')\n",
    "\n",
    "print(text_)"
   ]
  },
  {
   "cell_type": "code",
   "execution_count": 9,
   "metadata": {},
   "outputs": [],
   "source": [
    "s.sendall(text_)"
   ]
  },
  {
   "cell_type": "code",
   "execution_count": 5,
   "metadata": {},
   "outputs": [],
   "source": [
    "packet = b'''PACKET_SERVER_JOIN_REQ = 4; cs, dsend, no-delta, no-handle\n",
    "STRING \"pehla\";\n",
    "STRING \"3.0.91-dev\";\n",
    "STRING \"-dev\";\n",
    "UINT32 3, 0, 91;\n",
    "end\n",
    "'''"
   ]
  },
  {
   "cell_type": "code",
   "execution_count": 13,
   "metadata": {},
   "outputs": [
    {
     "name": "stdout",
     "output_type": "stream",
     "text": [
      "b'PACKET_SERVER_JOIN_REQ = 4; cs, dsend, no-delta, no-handle\\nSTRING \"pehla\";\\nSTRING \"3.0.91-dev\";\\nSTRING \"-dev\";\\nUINT32 3, 0, 91;\\nend\\n'\n"
     ]
    }
   ],
   "source": [
    "print(packet)"
   ]
  },
  {
   "cell_type": "code",
   "execution_count": 10,
   "metadata": {},
   "outputs": [],
   "source": [
    "s.sendall(packet)"
   ]
  },
  {
   "cell_type": "code",
   "execution_count": 15,
   "metadata": {},
   "outputs": [],
   "source": [
    "d = s.recv(10000)"
   ]
  },
  {
   "cell_type": "code",
   "execution_count": 16,
   "metadata": {},
   "outputs": [
    {
     "name": "stdout",
     "output_type": "stream",
     "text": [
      "b''\n"
     ]
    }
   ],
   "source": [
    "print(d)"
   ]
  },
  {
   "cell_type": "code",
   "execution_count": null,
   "metadata": {},
   "outputs": [],
   "source": []
  }
 ],
 "metadata": {
  "kernelspec": {
   "display_name": "Python 3",
   "language": "python",
   "name": "python3"
  },
  "language_info": {
   "codemirror_mode": {
    "name": "ipython",
    "version": 3
   },
   "file_extension": ".py",
   "mimetype": "text/x-python",
   "name": "python",
   "nbconvert_exporter": "python",
   "pygments_lexer": "ipython3",
   "version": "3.6.5"
  }
 },
 "nbformat": 4,
 "nbformat_minor": 2
}
