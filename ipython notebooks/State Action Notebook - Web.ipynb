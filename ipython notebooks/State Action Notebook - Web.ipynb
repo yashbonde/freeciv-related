{
 "cells": [
  {
   "cell_type": "markdown",
   "metadata": {},
   "source": [
    "# State Action Notebook - Web\n",
    "\n",
    "In this notebook we are going to look at the state / action JSON that we get from Web-Client. Most of the work done in this will also be taken over and reused for the desktop-client, which is my final aim."
   ]
  },
  {
   "cell_type": "code",
   "execution_count": 2,
   "metadata": {},
   "outputs": [],
   "source": [
    "import json # JSON handling\n",
    "import numpy as np # linear algebra\n",
    "import matplotlib.pyplot as plt # visualisation\n",
    "%matplotlib inline"
   ]
  },
  {
   "cell_type": "markdown",
   "metadata": {},
   "source": [
    "## State - Non Action Based\n",
    "\n",
    "There are some state values that can be changed by taking action, while there are those that cannot be changed such as `rules` or `options`. Here we are discussing those that cannot be changed."
   ]
  },
  {
   "cell_type": "code",
   "execution_count": 3,
   "metadata": {},
   "outputs": [],
   "source": [
    "state = open('./example_observation_state.json').read()\n",
    "state = json.loads(state)"
   ]
  },
  {
   "cell_type": "markdown",
   "metadata": {},
   "source": [
    "Following are the elements in state:\n",
    "```python\n",
    ">>> state.keys()\n",
    ">>> ['city', 'client', 'dipl', 'game', 'gov', 'map', 'options', 'player', 'rules', 'tech', 'unit']\n",
    "```"
   ]
  },
  {
   "cell_type": "code",
   "execution_count": 4,
   "metadata": {},
   "outputs": [],
   "source": [
    "STATE_INFORMATION_KEYS = ['city', 'client', 'dipl', 'game', 'gov', 'map', 'options', 'player', 'rules', 'tech', 'unit']\n",
    "NON_ACTION_INFO = ['client', 'game', 'options', 'player', 'rules']\n",
    "ACTION_INFO = ['city', 'dipl', 'gov', 'map', 'tech', 'unit']"
   ]
  },
  {
   "cell_type": "markdown",
   "metadata": {},
   "source": [
    "But of all of those only a few actually have any values in them."
   ]
  },
  {
   "cell_type": "code",
   "execution_count": 5,
   "metadata": {
    "scrolled": false
   },
   "outputs": [
    {
     "data": {
      "text/plain": [
       "{}"
      ]
     },
     "execution_count": 5,
     "metadata": {},
     "output_type": "execute_result"
    }
   ],
   "source": [
    "state['client']"
   ]
  },
  {
   "cell_type": "code",
   "execution_count": 6,
   "metadata": {},
   "outputs": [
    {
     "data": {
      "text/plain": [
       "{'allow_ai_type_fallback': False,\n",
       " 'authors': '',\n",
       " 'calendar_fragments': 0,\n",
       " 'calendar_skip_0': True,\n",
       " 'description': '',\n",
       " 'handmade': False,\n",
       " 'have_resources': True,\n",
       " 'is_scenario': False,\n",
       " 'lake_flooding': True,\n",
       " 'name': '',\n",
       " 'negative_year_label': 'BCE',\n",
       " 'pid': 180,\n",
       " 'players': True,\n",
       " 'positive_year_label': 'CE',\n",
       " 'prevent_new_cities': False,\n",
       " 'ruleset_locked': True,\n",
       " 'save_random': False,\n",
       " 'startpos_nations': False}"
      ]
     },
     "execution_count": 6,
     "metadata": {},
     "output_type": "execute_result"
    }
   ],
   "source": [
    "state['game']"
   ]
  },
  {
   "cell_type": "code",
   "execution_count": 7,
   "metadata": {},
   "outputs": [
    {
     "data": {
      "text/plain": [
       "{}"
      ]
     },
     "execution_count": 7,
     "metadata": {},
     "output_type": "execute_result"
    }
   ],
   "source": [
    "state['options']"
   ]
  },
  {
   "cell_type": "code",
   "execution_count": 8,
   "metadata": {
    "scrolled": false
   },
   "outputs": [
    {
     "data": {
      "text/plain": [
       "{'embassy_txt': '-',\n",
       " 'my_culture': 0,\n",
       " 'my_current_research_cost': None,\n",
       " 'my_gold': 64,\n",
       " 'my_government': 1,\n",
       " 'my_is_alive': True,\n",
       " 'my_luxury': 0,\n",
       " 'my_mood': 0,\n",
       " 'my_nation': 484,\n",
       " 'my_net_income': None,\n",
       " 'my_revolution_finishes': -1,\n",
       " 'my_science': 60,\n",
       " 'my_science_cost': 100,\n",
       " 'my_score': 5,\n",
       " 'my_target_government': 6,\n",
       " 'my_tax': 40,\n",
       " 'my_tech_goal': 253,\n",
       " 'my_tech_upkeep': 0,\n",
       " 'my_techs_researched': 3,\n",
       " 'my_total_bulbs_prod': 2,\n",
       " 'my_turns_alive': 14,\n",
       " 'no_ais': 7,\n",
       " 'no_humans': 0,\n",
       " 'opponent_1bulbs_researched': None,\n",
       " 'opponent_1capital': None,\n",
       " 'opponent_1col_love': 'Neutral',\n",
       " 'opponent_1gold': None,\n",
       " 'opponent_1gov': None,\n",
       " 'opponent_1gov_name': None,\n",
       " 'opponent_1invention_1': None,\n",
       " 'opponent_1invention_10': None,\n",
       " 'opponent_1invention_11': None,\n",
       " 'opponent_1invention_12': None,\n",
       " 'opponent_1invention_13': None,\n",
       " 'opponent_1invention_14': None,\n",
       " 'opponent_1invention_15': None,\n",
       " 'opponent_1invention_16': None,\n",
       " 'opponent_1invention_17': None,\n",
       " 'opponent_1invention_18': None,\n",
       " 'opponent_1invention_19': None,\n",
       " 'opponent_1invention_2': None,\n",
       " 'opponent_1invention_20': None,\n",
       " 'opponent_1invention_21': None,\n",
       " 'opponent_1invention_22': None,\n",
       " 'opponent_1invention_23': None,\n",
       " 'opponent_1invention_24': None,\n",
       " 'opponent_1invention_25': None,\n",
       " 'opponent_1invention_26': None,\n",
       " 'opponent_1invention_27': None,\n",
       " 'opponent_1invention_28': None,\n",
       " 'opponent_1invention_29': None,\n",
       " 'opponent_1invention_3': None,\n",
       " 'opponent_1invention_30': None,\n",
       " 'opponent_1invention_31': None,\n",
       " 'opponent_1invention_32': None,\n",
       " 'opponent_1invention_33': None,\n",
       " 'opponent_1invention_34': None,\n",
       " 'opponent_1invention_35': None,\n",
       " 'opponent_1invention_36': None,\n",
       " 'opponent_1invention_37': None,\n",
       " 'opponent_1invention_38': None,\n",
       " 'opponent_1invention_39': None,\n",
       " 'opponent_1invention_4': None,\n",
       " 'opponent_1invention_40': None,\n",
       " 'opponent_1invention_41': None,\n",
       " 'opponent_1invention_42': None,\n",
       " 'opponent_1invention_43': None,\n",
       " 'opponent_1invention_44': None,\n",
       " 'opponent_1invention_45': None,\n",
       " 'opponent_1invention_46': None,\n",
       " 'opponent_1invention_47': None,\n",
       " 'opponent_1invention_48': None,\n",
       " 'opponent_1invention_49': None,\n",
       " 'opponent_1invention_5': None,\n",
       " 'opponent_1invention_50': None,\n",
       " 'opponent_1invention_51': None,\n",
       " 'opponent_1invention_52': None,\n",
       " 'opponent_1invention_53': None,\n",
       " 'opponent_1invention_54': None,\n",
       " 'opponent_1invention_55': None,\n",
       " 'opponent_1invention_56': None,\n",
       " 'opponent_1invention_57': None,\n",
       " 'opponent_1invention_58': None,\n",
       " 'opponent_1invention_59': None,\n",
       " 'opponent_1invention_6': None,\n",
       " 'opponent_1invention_60': None,\n",
       " 'opponent_1invention_61': None,\n",
       " 'opponent_1invention_62': None,\n",
       " 'opponent_1invention_63': None,\n",
       " 'opponent_1invention_64': None,\n",
       " 'opponent_1invention_65': None,\n",
       " 'opponent_1invention_66': None,\n",
       " 'opponent_1invention_67': None,\n",
       " 'opponent_1invention_68': None,\n",
       " 'opponent_1invention_69': None,\n",
       " 'opponent_1invention_7': None,\n",
       " 'opponent_1invention_70': None,\n",
       " 'opponent_1invention_71': None,\n",
       " 'opponent_1invention_72': None,\n",
       " 'opponent_1invention_73': None,\n",
       " 'opponent_1invention_74': None,\n",
       " 'opponent_1invention_75': None,\n",
       " 'opponent_1invention_76': None,\n",
       " 'opponent_1invention_77': None,\n",
       " 'opponent_1invention_78': None,\n",
       " 'opponent_1invention_79': None,\n",
       " 'opponent_1invention_8': None,\n",
       " 'opponent_1invention_80': None,\n",
       " 'opponent_1invention_81': None,\n",
       " 'opponent_1invention_82': None,\n",
       " 'opponent_1invention_83': None,\n",
       " 'opponent_1invention_84': None,\n",
       " 'opponent_1invention_85': None,\n",
       " 'opponent_1invention_86': None,\n",
       " 'opponent_1invention_87': None,\n",
       " 'opponent_1invention_9': None,\n",
       " 'opponent_1luxury': None,\n",
       " 'opponent_1plr_score': '?',\n",
       " 'opponent_1plr_type': 'Easy AI',\n",
       " 'opponent_1research': None,\n",
       " 'opponent_1research_name': None,\n",
       " 'opponent_1research_progress': None,\n",
       " 'opponent_1researching_cost': None,\n",
       " 'opponent_1science': None,\n",
       " 'opponent_1tax': None,\n",
       " 'opponent_2bulbs_researched': None,\n",
       " 'opponent_2capital': None,\n",
       " 'opponent_2col_love': 'Neutral',\n",
       " 'opponent_2gold': 63,\n",
       " 'opponent_2gov': 1,\n",
       " 'opponent_2gov_name': 'Despotism',\n",
       " 'opponent_2invention_1': None,\n",
       " 'opponent_2invention_10': None,\n",
       " 'opponent_2invention_11': None,\n",
       " 'opponent_2invention_12': None,\n",
       " 'opponent_2invention_13': None,\n",
       " 'opponent_2invention_14': None,\n",
       " 'opponent_2invention_15': None,\n",
       " 'opponent_2invention_16': None,\n",
       " 'opponent_2invention_17': None,\n",
       " 'opponent_2invention_18': None,\n",
       " 'opponent_2invention_19': None,\n",
       " 'opponent_2invention_2': None,\n",
       " 'opponent_2invention_20': None,\n",
       " 'opponent_2invention_21': None,\n",
       " 'opponent_2invention_22': None,\n",
       " 'opponent_2invention_23': None,\n",
       " 'opponent_2invention_24': None,\n",
       " 'opponent_2invention_25': None,\n",
       " 'opponent_2invention_26': None,\n",
       " 'opponent_2invention_27': None,\n",
       " 'opponent_2invention_28': None,\n",
       " 'opponent_2invention_29': None,\n",
       " 'opponent_2invention_3': None,\n",
       " 'opponent_2invention_30': None,\n",
       " 'opponent_2invention_31': None,\n",
       " 'opponent_2invention_32': None,\n",
       " 'opponent_2invention_33': None,\n",
       " 'opponent_2invention_34': None,\n",
       " 'opponent_2invention_35': None,\n",
       " 'opponent_2invention_36': None,\n",
       " 'opponent_2invention_37': None,\n",
       " 'opponent_2invention_38': None,\n",
       " 'opponent_2invention_39': None,\n",
       " 'opponent_2invention_4': None,\n",
       " 'opponent_2invention_40': None,\n",
       " 'opponent_2invention_41': None,\n",
       " 'opponent_2invention_42': None,\n",
       " 'opponent_2invention_43': None,\n",
       " 'opponent_2invention_44': None,\n",
       " 'opponent_2invention_45': None,\n",
       " 'opponent_2invention_46': None,\n",
       " 'opponent_2invention_47': None,\n",
       " 'opponent_2invention_48': None,\n",
       " 'opponent_2invention_49': None,\n",
       " 'opponent_2invention_5': None,\n",
       " 'opponent_2invention_50': None,\n",
       " 'opponent_2invention_51': None,\n",
       " 'opponent_2invention_52': None,\n",
       " 'opponent_2invention_53': None,\n",
       " 'opponent_2invention_54': None,\n",
       " 'opponent_2invention_55': None,\n",
       " 'opponent_2invention_56': None,\n",
       " 'opponent_2invention_57': None,\n",
       " 'opponent_2invention_58': None,\n",
       " 'opponent_2invention_59': None,\n",
       " 'opponent_2invention_6': None,\n",
       " 'opponent_2invention_60': None,\n",
       " 'opponent_2invention_61': None,\n",
       " 'opponent_2invention_62': None,\n",
       " 'opponent_2invention_63': None,\n",
       " 'opponent_2invention_64': None,\n",
       " 'opponent_2invention_65': None,\n",
       " 'opponent_2invention_66': None,\n",
       " 'opponent_2invention_67': None,\n",
       " 'opponent_2invention_68': None,\n",
       " 'opponent_2invention_69': None,\n",
       " 'opponent_2invention_7': None,\n",
       " 'opponent_2invention_70': None,\n",
       " 'opponent_2invention_71': None,\n",
       " 'opponent_2invention_72': None,\n",
       " 'opponent_2invention_73': None,\n",
       " 'opponent_2invention_74': None,\n",
       " 'opponent_2invention_75': None,\n",
       " 'opponent_2invention_76': None,\n",
       " 'opponent_2invention_77': None,\n",
       " 'opponent_2invention_78': None,\n",
       " 'opponent_2invention_79': None,\n",
       " 'opponent_2invention_8': None,\n",
       " 'opponent_2invention_80': None,\n",
       " 'opponent_2invention_81': None,\n",
       " 'opponent_2invention_82': None,\n",
       " 'opponent_2invention_83': None,\n",
       " 'opponent_2invention_84': None,\n",
       " 'opponent_2invention_85': None,\n",
       " 'opponent_2invention_86': None,\n",
       " 'opponent_2invention_87': None,\n",
       " 'opponent_2invention_9': None,\n",
       " 'opponent_2luxury': None,\n",
       " 'opponent_2plr_score': 3,\n",
       " 'opponent_2plr_type': 'Easy AI',\n",
       " 'opponent_2research': None,\n",
       " 'opponent_2research_name': None,\n",
       " 'opponent_2research_progress': None,\n",
       " 'opponent_2researching_cost': None,\n",
       " 'opponent_2science': None,\n",
       " 'opponent_2tax': None,\n",
       " 'opponent_3bulbs_researched': None,\n",
       " 'opponent_3capital': None,\n",
       " 'opponent_3col_love': 'Neutral',\n",
       " 'opponent_3gold': None,\n",
       " 'opponent_3gov': None,\n",
       " 'opponent_3gov_name': None,\n",
       " 'opponent_3invention_1': None,\n",
       " 'opponent_3invention_10': None,\n",
       " 'opponent_3invention_11': None,\n",
       " 'opponent_3invention_12': None,\n",
       " 'opponent_3invention_13': None,\n",
       " 'opponent_3invention_14': None,\n",
       " 'opponent_3invention_15': None,\n",
       " 'opponent_3invention_16': None,\n",
       " 'opponent_3invention_17': None,\n",
       " 'opponent_3invention_18': None,\n",
       " 'opponent_3invention_19': None,\n",
       " 'opponent_3invention_2': None,\n",
       " 'opponent_3invention_20': None,\n",
       " 'opponent_3invention_21': None,\n",
       " 'opponent_3invention_22': None,\n",
       " 'opponent_3invention_23': None,\n",
       " 'opponent_3invention_24': None,\n",
       " 'opponent_3invention_25': None,\n",
       " 'opponent_3invention_26': None,\n",
       " 'opponent_3invention_27': None,\n",
       " 'opponent_3invention_28': None,\n",
       " 'opponent_3invention_29': None,\n",
       " 'opponent_3invention_3': None,\n",
       " 'opponent_3invention_30': None,\n",
       " 'opponent_3invention_31': None,\n",
       " 'opponent_3invention_32': None,\n",
       " 'opponent_3invention_33': None,\n",
       " 'opponent_3invention_34': None,\n",
       " 'opponent_3invention_35': None,\n",
       " 'opponent_3invention_36': None,\n",
       " 'opponent_3invention_37': None,\n",
       " 'opponent_3invention_38': None,\n",
       " 'opponent_3invention_39': None,\n",
       " 'opponent_3invention_4': None,\n",
       " 'opponent_3invention_40': None,\n",
       " 'opponent_3invention_41': None,\n",
       " 'opponent_3invention_42': None,\n",
       " 'opponent_3invention_43': None,\n",
       " 'opponent_3invention_44': None,\n",
       " 'opponent_3invention_45': None,\n",
       " 'opponent_3invention_46': None,\n",
       " 'opponent_3invention_47': None,\n",
       " 'opponent_3invention_48': None,\n",
       " 'opponent_3invention_49': None,\n",
       " 'opponent_3invention_5': None,\n",
       " 'opponent_3invention_50': None,\n",
       " 'opponent_3invention_51': None,\n",
       " 'opponent_3invention_52': None,\n",
       " 'opponent_3invention_53': None,\n",
       " 'opponent_3invention_54': None,\n",
       " 'opponent_3invention_55': None,\n",
       " 'opponent_3invention_56': None,\n",
       " 'opponent_3invention_57': None,\n",
       " 'opponent_3invention_58': None,\n",
       " 'opponent_3invention_59': None,\n",
       " 'opponent_3invention_6': None,\n",
       " 'opponent_3invention_60': None,\n",
       " 'opponent_3invention_61': None,\n",
       " 'opponent_3invention_62': None,\n",
       " 'opponent_3invention_63': None,\n",
       " 'opponent_3invention_64': None,\n",
       " 'opponent_3invention_65': None,\n",
       " 'opponent_3invention_66': None,\n",
       " 'opponent_3invention_67': None,\n",
       " 'opponent_3invention_68': None,\n",
       " 'opponent_3invention_69': None,\n",
       " 'opponent_3invention_7': None,\n",
       " 'opponent_3invention_70': None,\n",
       " 'opponent_3invention_71': None,\n",
       " 'opponent_3invention_72': None,\n",
       " 'opponent_3invention_73': None,\n",
       " 'opponent_3invention_74': None,\n",
       " 'opponent_3invention_75': None,\n",
       " 'opponent_3invention_76': None,\n",
       " 'opponent_3invention_77': None,\n",
       " 'opponent_3invention_78': None,\n",
       " 'opponent_3invention_79': None,\n",
       " 'opponent_3invention_8': None,\n",
       " 'opponent_3invention_80': None,\n",
       " 'opponent_3invention_81': None,\n",
       " 'opponent_3invention_82': None,\n",
       " 'opponent_3invention_83': None,\n",
       " 'opponent_3invention_84': None,\n",
       " 'opponent_3invention_85': None,\n",
       " 'opponent_3invention_86': None,\n",
       " 'opponent_3invention_87': None,\n",
       " 'opponent_3invention_9': None,\n",
       " 'opponent_3luxury': None,\n",
       " 'opponent_3plr_score': '?',\n",
       " 'opponent_3plr_type': 'Easy AI',\n",
       " 'opponent_3research': None,\n",
       " 'opponent_3research_name': None,\n",
       " 'opponent_3research_progress': None,\n",
       " 'opponent_3researching_cost': None,\n",
       " 'opponent_3science': None,\n",
       " 'opponent_3tax': None,\n",
       " 'opponent_4bulbs_researched': None,\n",
       " 'opponent_4capital': None,\n",
       " 'opponent_4col_love': 'Neutral',\n",
       " 'opponent_4gold': None,\n",
       " 'opponent_4gov': None,\n",
       " 'opponent_4gov_name': None,\n",
       " 'opponent_4invention_1': None,\n",
       " 'opponent_4invention_10': None,\n",
       " 'opponent_4invention_11': None,\n",
       " 'opponent_4invention_12': None,\n",
       " 'opponent_4invention_13': None,\n",
       " 'opponent_4invention_14': None,\n",
       " 'opponent_4invention_15': None,\n",
       " 'opponent_4invention_16': None,\n",
       " 'opponent_4invention_17': None,\n",
       " 'opponent_4invention_18': None,\n",
       " 'opponent_4invention_19': None,\n",
       " 'opponent_4invention_2': None,\n",
       " 'opponent_4invention_20': None,\n",
       " 'opponent_4invention_21': None,\n",
       " 'opponent_4invention_22': None,\n",
       " 'opponent_4invention_23': None,\n",
       " 'opponent_4invention_24': None,\n",
       " 'opponent_4invention_25': None,\n",
       " 'opponent_4invention_26': None,\n",
       " 'opponent_4invention_27': None,\n",
       " 'opponent_4invention_28': None,\n",
       " 'opponent_4invention_29': None,\n",
       " 'opponent_4invention_3': None,\n",
       " 'opponent_4invention_30': None,\n",
       " 'opponent_4invention_31': None,\n",
       " 'opponent_4invention_32': None,\n",
       " 'opponent_4invention_33': None,\n",
       " 'opponent_4invention_34': None,\n",
       " 'opponent_4invention_35': None,\n",
       " 'opponent_4invention_36': None,\n",
       " 'opponent_4invention_37': None,\n",
       " 'opponent_4invention_38': None,\n",
       " 'opponent_4invention_39': None,\n",
       " 'opponent_4invention_4': None,\n",
       " 'opponent_4invention_40': None,\n",
       " 'opponent_4invention_41': None,\n",
       " 'opponent_4invention_42': None,\n",
       " 'opponent_4invention_43': None,\n",
       " 'opponent_4invention_44': None,\n",
       " 'opponent_4invention_45': None,\n",
       " 'opponent_4invention_46': None,\n",
       " 'opponent_4invention_47': None,\n",
       " 'opponent_4invention_48': None,\n",
       " 'opponent_4invention_49': None,\n",
       " 'opponent_4invention_5': None,\n",
       " 'opponent_4invention_50': None,\n",
       " 'opponent_4invention_51': None,\n",
       " 'opponent_4invention_52': None,\n",
       " 'opponent_4invention_53': None,\n",
       " 'opponent_4invention_54': None,\n",
       " 'opponent_4invention_55': None,\n",
       " 'opponent_4invention_56': None,\n",
       " 'opponent_4invention_57': None,\n",
       " 'opponent_4invention_58': None,\n",
       " 'opponent_4invention_59': None,\n",
       " 'opponent_4invention_6': None,\n",
       " 'opponent_4invention_60': None,\n",
       " 'opponent_4invention_61': None,\n",
       " 'opponent_4invention_62': None,\n",
       " 'opponent_4invention_63': None,\n",
       " 'opponent_4invention_64': None,\n",
       " 'opponent_4invention_65': None,\n",
       " 'opponent_4invention_66': None,\n",
       " 'opponent_4invention_67': None,\n",
       " 'opponent_4invention_68': None,\n",
       " 'opponent_4invention_69': None,\n",
       " 'opponent_4invention_7': None,\n",
       " 'opponent_4invention_70': None,\n",
       " 'opponent_4invention_71': None,\n",
       " 'opponent_4invention_72': None,\n",
       " 'opponent_4invention_73': None,\n",
       " 'opponent_4invention_74': None,\n",
       " 'opponent_4invention_75': None,\n",
       " 'opponent_4invention_76': None,\n",
       " 'opponent_4invention_77': None,\n",
       " 'opponent_4invention_78': None,\n",
       " 'opponent_4invention_79': None,\n",
       " 'opponent_4invention_8': None,\n",
       " 'opponent_4invention_80': None,\n",
       " 'opponent_4invention_81': None,\n",
       " 'opponent_4invention_82': None,\n",
       " 'opponent_4invention_83': None,\n",
       " 'opponent_4invention_84': None,\n",
       " 'opponent_4invention_85': None,\n",
       " 'opponent_4invention_86': None,\n",
       " 'opponent_4invention_87': None,\n",
       " 'opponent_4invention_9': None,\n",
       " 'opponent_4luxury': None,\n",
       " 'opponent_4plr_score': '?',\n",
       " 'opponent_4plr_type': 'Easy AI',\n",
       " 'opponent_4research': None,\n",
       " 'opponent_4research_name': None,\n",
       " 'opponent_4research_progress': None,\n",
       " 'opponent_4researching_cost': None,\n",
       " 'opponent_4science': None,\n",
       " 'opponent_4tax': None,\n",
       " 'opponent_5bulbs_researched': None,\n",
       " 'opponent_5capital': None,\n",
       " 'opponent_5col_love': 'Neutral',\n",
       " 'opponent_5gold': None,\n",
       " 'opponent_5gov': None,\n",
       " 'opponent_5gov_name': None,\n",
       " 'opponent_5invention_1': None,\n",
       " 'opponent_5invention_10': None,\n",
       " 'opponent_5invention_11': None,\n",
       " 'opponent_5invention_12': None,\n",
       " 'opponent_5invention_13': None,\n",
       " 'opponent_5invention_14': None,\n",
       " 'opponent_5invention_15': None,\n",
       " 'opponent_5invention_16': None,\n",
       " 'opponent_5invention_17': None,\n",
       " 'opponent_5invention_18': None,\n",
       " 'opponent_5invention_19': None,\n",
       " 'opponent_5invention_2': None,\n",
       " 'opponent_5invention_20': None,\n",
       " 'opponent_5invention_21': None,\n",
       " 'opponent_5invention_22': None,\n",
       " 'opponent_5invention_23': None,\n",
       " 'opponent_5invention_24': None,\n",
       " 'opponent_5invention_25': None,\n",
       " 'opponent_5invention_26': None,\n",
       " 'opponent_5invention_27': None,\n",
       " 'opponent_5invention_28': None,\n",
       " 'opponent_5invention_29': None,\n",
       " 'opponent_5invention_3': None,\n",
       " 'opponent_5invention_30': None,\n",
       " 'opponent_5invention_31': None,\n",
       " 'opponent_5invention_32': None,\n",
       " 'opponent_5invention_33': None,\n",
       " 'opponent_5invention_34': None,\n",
       " 'opponent_5invention_35': None,\n",
       " 'opponent_5invention_36': None,\n",
       " 'opponent_5invention_37': None,\n",
       " 'opponent_5invention_38': None,\n",
       " 'opponent_5invention_39': None,\n",
       " 'opponent_5invention_4': None,\n",
       " 'opponent_5invention_40': None,\n",
       " 'opponent_5invention_41': None,\n",
       " 'opponent_5invention_42': None,\n",
       " 'opponent_5invention_43': None,\n",
       " 'opponent_5invention_44': None,\n",
       " 'opponent_5invention_45': None,\n",
       " 'opponent_5invention_46': None,\n",
       " 'opponent_5invention_47': None,\n",
       " 'opponent_5invention_48': None,\n",
       " 'opponent_5invention_49': None,\n",
       " 'opponent_5invention_5': None,\n",
       " 'opponent_5invention_50': None,\n",
       " 'opponent_5invention_51': None,\n",
       " 'opponent_5invention_52': None,\n",
       " 'opponent_5invention_53': None,\n",
       " 'opponent_5invention_54': None,\n",
       " 'opponent_5invention_55': None,\n",
       " 'opponent_5invention_56': None,\n",
       " 'opponent_5invention_57': None,\n",
       " 'opponent_5invention_58': None,\n",
       " 'opponent_5invention_59': None,\n",
       " 'opponent_5invention_6': None,\n",
       " 'opponent_5invention_60': None,\n",
       " 'opponent_5invention_61': None,\n",
       " 'opponent_5invention_62': None,\n",
       " 'opponent_5invention_63': None,\n",
       " 'opponent_5invention_64': None,\n",
       " 'opponent_5invention_65': None,\n",
       " 'opponent_5invention_66': None,\n",
       " 'opponent_5invention_67': None,\n",
       " 'opponent_5invention_68': None,\n",
       " 'opponent_5invention_69': None,\n",
       " 'opponent_5invention_7': None,\n",
       " 'opponent_5invention_70': None,\n",
       " 'opponent_5invention_71': None,\n",
       " 'opponent_5invention_72': None,\n",
       " 'opponent_5invention_73': None,\n",
       " 'opponent_5invention_74': None,\n",
       " 'opponent_5invention_75': None,\n",
       " 'opponent_5invention_76': None,\n",
       " 'opponent_5invention_77': None,\n",
       " 'opponent_5invention_78': None,\n",
       " 'opponent_5invention_79': None,\n",
       " 'opponent_5invention_8': None,\n",
       " 'opponent_5invention_80': None,\n",
       " 'opponent_5invention_81': None,\n",
       " 'opponent_5invention_82': None,\n",
       " 'opponent_5invention_83': None,\n",
       " 'opponent_5invention_84': None,\n",
       " 'opponent_5invention_85': None,\n",
       " 'opponent_5invention_86': None,\n",
       " 'opponent_5invention_87': None,\n",
       " 'opponent_5invention_9': None,\n",
       " 'opponent_5luxury': None,\n",
       " 'opponent_5plr_score': '?',\n",
       " 'opponent_5plr_type': 'Easy AI',\n",
       " 'opponent_5research': None,\n",
       " 'opponent_5research_name': None,\n",
       " 'opponent_5research_progress': None,\n",
       " 'opponent_5researching_cost': None,\n",
       " 'opponent_5science': None,\n",
       " 'opponent_5tax': None,\n",
       " 'opponent_6bulbs_researched': None,\n",
       " 'opponent_6capital': None,\n",
       " 'opponent_6col_love': 'Neutral',\n",
       " 'opponent_6gold': None,\n",
       " 'opponent_6gov': None,\n",
       " 'opponent_6gov_name': None,\n",
       " 'opponent_6invention_1': None,\n",
       " 'opponent_6invention_10': None,\n",
       " 'opponent_6invention_11': None,\n",
       " 'opponent_6invention_12': None,\n",
       " 'opponent_6invention_13': None,\n",
       " 'opponent_6invention_14': None,\n",
       " 'opponent_6invention_15': None,\n",
       " 'opponent_6invention_16': None,\n",
       " 'opponent_6invention_17': None,\n",
       " 'opponent_6invention_18': None,\n",
       " 'opponent_6invention_19': None,\n",
       " 'opponent_6invention_2': None,\n",
       " 'opponent_6invention_20': None,\n",
       " 'opponent_6invention_21': None,\n",
       " 'opponent_6invention_22': None,\n",
       " 'opponent_6invention_23': None,\n",
       " 'opponent_6invention_24': None,\n",
       " 'opponent_6invention_25': None,\n",
       " 'opponent_6invention_26': None,\n",
       " 'opponent_6invention_27': None,\n",
       " 'opponent_6invention_28': None,\n",
       " 'opponent_6invention_29': None,\n",
       " 'opponent_6invention_3': None,\n",
       " 'opponent_6invention_30': None,\n",
       " 'opponent_6invention_31': None,\n",
       " 'opponent_6invention_32': None,\n",
       " 'opponent_6invention_33': None,\n",
       " 'opponent_6invention_34': None,\n",
       " 'opponent_6invention_35': None,\n",
       " 'opponent_6invention_36': None,\n",
       " 'opponent_6invention_37': None,\n",
       " 'opponent_6invention_38': None,\n",
       " 'opponent_6invention_39': None,\n",
       " 'opponent_6invention_4': None,\n",
       " 'opponent_6invention_40': None,\n",
       " 'opponent_6invention_41': None,\n",
       " 'opponent_6invention_42': None,\n",
       " 'opponent_6invention_43': None,\n",
       " 'opponent_6invention_44': None,\n",
       " 'opponent_6invention_45': None,\n",
       " 'opponent_6invention_46': None,\n",
       " 'opponent_6invention_47': None,\n",
       " 'opponent_6invention_48': None,\n",
       " 'opponent_6invention_49': None,\n",
       " 'opponent_6invention_5': None,\n",
       " 'opponent_6invention_50': None,\n",
       " 'opponent_6invention_51': None,\n",
       " 'opponent_6invention_52': None,\n",
       " 'opponent_6invention_53': None,\n",
       " 'opponent_6invention_54': None,\n",
       " 'opponent_6invention_55': None,\n",
       " 'opponent_6invention_56': None,\n",
       " 'opponent_6invention_57': None,\n",
       " 'opponent_6invention_58': None,\n",
       " 'opponent_6invention_59': None,\n",
       " 'opponent_6invention_6': None,\n",
       " 'opponent_6invention_60': None,\n",
       " 'opponent_6invention_61': None,\n",
       " 'opponent_6invention_62': None,\n",
       " 'opponent_6invention_63': None,\n",
       " 'opponent_6invention_64': None,\n",
       " 'opponent_6invention_65': None,\n",
       " 'opponent_6invention_66': None,\n",
       " 'opponent_6invention_67': None,\n",
       " 'opponent_6invention_68': None,\n",
       " 'opponent_6invention_69': None,\n",
       " 'opponent_6invention_7': None,\n",
       " 'opponent_6invention_70': None,\n",
       " 'opponent_6invention_71': None,\n",
       " 'opponent_6invention_72': None,\n",
       " 'opponent_6invention_73': None,\n",
       " 'opponent_6invention_74': None,\n",
       " 'opponent_6invention_75': None,\n",
       " 'opponent_6invention_76': None,\n",
       " 'opponent_6invention_77': None,\n",
       " 'opponent_6invention_78': None,\n",
       " 'opponent_6invention_79': None,\n",
       " 'opponent_6invention_8': None,\n",
       " 'opponent_6invention_80': None,\n",
       " 'opponent_6invention_81': None,\n",
       " 'opponent_6invention_82': None,\n",
       " 'opponent_6invention_83': None,\n",
       " 'opponent_6invention_84': None,\n",
       " 'opponent_6invention_85': None,\n",
       " 'opponent_6invention_86': None,\n",
       " 'opponent_6invention_87': None,\n",
       " 'opponent_6invention_9': None,\n",
       " 'opponent_6luxury': None,\n",
       " 'opponent_6plr_score': '?',\n",
       " 'opponent_6plr_type': 'Easy AI',\n",
       " 'opponent_6research': None,\n",
       " 'opponent_6research_name': None,\n",
       " 'opponent_6research_progress': None,\n",
       " 'opponent_6researching_cost': None,\n",
       " 'opponent_6science': None,\n",
       " 'opponent_6tax': None,\n",
       " 'opponent_7bulbs_researched': None,\n",
       " 'opponent_7capital': None,\n",
       " 'opponent_7col_love': 'Neutral',\n",
       " 'opponent_7gold': None,\n",
       " 'opponent_7gov': None,\n",
       " 'opponent_7gov_name': None,\n",
       " 'opponent_7invention_1': None,\n",
       " 'opponent_7invention_10': None,\n",
       " 'opponent_7invention_11': None,\n",
       " 'opponent_7invention_12': None,\n",
       " 'opponent_7invention_13': None,\n",
       " 'opponent_7invention_14': None,\n",
       " 'opponent_7invention_15': None,\n",
       " 'opponent_7invention_16': None,\n",
       " 'opponent_7invention_17': None,\n",
       " 'opponent_7invention_18': None,\n",
       " 'opponent_7invention_19': None,\n",
       " 'opponent_7invention_2': None,\n",
       " 'opponent_7invention_20': None,\n",
       " 'opponent_7invention_21': None,\n",
       " 'opponent_7invention_22': None,\n",
       " 'opponent_7invention_23': None,\n",
       " 'opponent_7invention_24': None,\n",
       " 'opponent_7invention_25': None,\n",
       " 'opponent_7invention_26': None,\n",
       " 'opponent_7invention_27': None,\n",
       " 'opponent_7invention_28': None,\n",
       " 'opponent_7invention_29': None,\n",
       " 'opponent_7invention_3': None,\n",
       " 'opponent_7invention_30': None,\n",
       " 'opponent_7invention_31': None,\n",
       " 'opponent_7invention_32': None,\n",
       " 'opponent_7invention_33': None,\n",
       " 'opponent_7invention_34': None,\n",
       " 'opponent_7invention_35': None,\n",
       " 'opponent_7invention_36': None,\n",
       " 'opponent_7invention_37': None,\n",
       " 'opponent_7invention_38': None,\n",
       " 'opponent_7invention_39': None,\n",
       " 'opponent_7invention_4': None,\n",
       " 'opponent_7invention_40': None,\n",
       " 'opponent_7invention_41': None,\n",
       " 'opponent_7invention_42': None,\n",
       " 'opponent_7invention_43': None,\n",
       " 'opponent_7invention_44': None,\n",
       " 'opponent_7invention_45': None,\n",
       " 'opponent_7invention_46': None,\n",
       " 'opponent_7invention_47': None,\n",
       " 'opponent_7invention_48': None,\n",
       " 'opponent_7invention_49': None,\n",
       " 'opponent_7invention_5': None,\n",
       " 'opponent_7invention_50': None,\n",
       " 'opponent_7invention_51': None,\n",
       " 'opponent_7invention_52': None,\n",
       " 'opponent_7invention_53': None,\n",
       " 'opponent_7invention_54': None,\n",
       " 'opponent_7invention_55': None,\n",
       " 'opponent_7invention_56': None,\n",
       " 'opponent_7invention_57': None,\n",
       " 'opponent_7invention_58': None,\n",
       " 'opponent_7invention_59': None,\n",
       " 'opponent_7invention_6': None,\n",
       " 'opponent_7invention_60': None,\n",
       " 'opponent_7invention_61': None,\n",
       " 'opponent_7invention_62': None,\n",
       " 'opponent_7invention_63': None,\n",
       " 'opponent_7invention_64': None,\n",
       " 'opponent_7invention_65': None,\n",
       " 'opponent_7invention_66': None,\n",
       " 'opponent_7invention_67': None,\n",
       " 'opponent_7invention_68': None,\n",
       " 'opponent_7invention_69': None,\n",
       " 'opponent_7invention_7': None,\n",
       " 'opponent_7invention_70': None,\n",
       " 'opponent_7invention_71': None,\n",
       " 'opponent_7invention_72': None,\n",
       " 'opponent_7invention_73': None,\n",
       " 'opponent_7invention_74': None,\n",
       " 'opponent_7invention_75': None,\n",
       " 'opponent_7invention_76': None,\n",
       " 'opponent_7invention_77': None,\n",
       " 'opponent_7invention_78': None,\n",
       " 'opponent_7invention_79': None,\n",
       " 'opponent_7invention_8': None,\n",
       " 'opponent_7invention_80': None,\n",
       " 'opponent_7invention_81': None,\n",
       " 'opponent_7invention_82': None,\n",
       " 'opponent_7invention_83': None,\n",
       " 'opponent_7invention_84': None,\n",
       " 'opponent_7invention_85': None,\n",
       " 'opponent_7invention_86': None,\n",
       " 'opponent_7invention_87': None,\n",
       " 'opponent_7invention_9': None,\n",
       " 'opponent_7luxury': None,\n",
       " 'opponent_7plr_score': '?',\n",
       " 'opponent_7plr_type': 'Easy AI',\n",
       " 'opponent_7research': None,\n",
       " 'opponent_7research_name': None,\n",
       " 'opponent_7research_progress': None,\n",
       " 'opponent_7researching_cost': None,\n",
       " 'opponent_7science': None,\n",
       " 'opponent_7tax': None,\n",
       " 'research_progress': 0,\n",
       " 'team_no': 0}"
      ]
     },
     "execution_count": 8,
     "metadata": {},
     "output_type": "execute_result"
    }
   ],
   "source": [
    "state['player']"
   ]
  },
  {
   "cell_type": "code",
   "execution_count": 9,
   "metadata": {
    "scrolled": false
   },
   "outputs": [
    {
     "data": {
      "text/plain": [
       "{'add_to_size_limit': 8,\n",
       " 'aifill': 8,\n",
       " 'airlifting_style': 0,\n",
       " 'angrycitizen': 1,\n",
       " 'base_bribe_cost': 750,\n",
       " 'base_pollution': -20,\n",
       " 'base_tech_cost': 20,\n",
       " 'border_city_permanent_radius_sq': 0,\n",
       " 'border_city_radius_sq': 17,\n",
       " 'border_size_effect': 1,\n",
       " 'borders': 1,\n",
       " 'caravan_bonus_style': 0,\n",
       " 'celebratesize': 3,\n",
       " 'changable_tax': True,\n",
       " 'citizen_convert_speed': 50,\n",
       " 'citizen_nationality': True,\n",
       " 'citizen_partisans_pct': 0,\n",
       " 'citymindist': 2,\n",
       " 'civil_war_enabled': True,\n",
       " 'conquest_convert_pct': 0,\n",
       " 'cooling': 0,\n",
       " 'coolinglevel': 10,\n",
       " 'culture_migration_pml': 50,\n",
       " 'culture_vic_lead': 200,\n",
       " 'culture_vic_points': 1000,\n",
       " 'default_government_id': 1,\n",
       " 'diplomacy': 0,\n",
       " 'disasters': 10,\n",
       " 'first_timeout': -1,\n",
       " 'fogofwar': True,\n",
       " 'food_cost': 2,\n",
       " 'foodbox': 100,\n",
       " 'forced_gold': 0,\n",
       " 'forced_luxury': 100,\n",
       " 'forced_science': 0,\n",
       " 'fragment_count': 0,\n",
       " 'fragments': 0,\n",
       " 'free_tech_method': 0,\n",
       " 'fulltradesize': 1,\n",
       " 'gameloss_style': 0,\n",
       " 'global_advance_count': 2,\n",
       " 'global_warming': True,\n",
       " 'globalwarming': 0,\n",
       " 'gold': 50,\n",
       " 'gold_upkeep_style': 0,\n",
       " 'goods_selection': 1,\n",
       " 'government_during_revolution_id': 0,\n",
       " 'granary_food_inc': 10,\n",
       " 'granary_num_inis': 1,\n",
       " 'happy_cost': 2,\n",
       " 'happyborders': 1,\n",
       " 'heating': 0,\n",
       " 'illness_base_factor': 25,\n",
       " 'illness_min_size': 3,\n",
       " 'illness_on': False,\n",
       " 'illness_pollution_factor': 50,\n",
       " 'illness_trade_infection': 50,\n",
       " 'init_city_radius_sq': 5,\n",
       " 'is_edit_mode': False,\n",
       " 'is_new_game': False,\n",
       " 'killcitizen': True,\n",
       " 'killstack': True,\n",
       " 'muuk_food_wipe': True,\n",
       " 'muuk_gold_wipe': True,\n",
       " 'muuk_shield_wipe': False,\n",
       " 'notradesize': 0,\n",
       " 'nuclear_winter': True,\n",
       " 'nuclearwinter': 0,\n",
       " 'paradrop_to_transport': False,\n",
       " 'persistent_ready': 0,\n",
       " 'phase': 0,\n",
       " 'phase_mode': 0,\n",
       " 'pid': 16,\n",
       " 'pillage_select': True,\n",
       " 'poison_empties_food_stock': False,\n",
       " 'pop_report_zeroes': 4,\n",
       " 'rapturedelay': 1,\n",
       " 'restrictinfra': False,\n",
       " 'revolentype': 1,\n",
       " 'sciencebox': 100,\n",
       " 'shieldbox': 100,\n",
       " 'skill_level': 3,\n",
       " 'slow_invasions': True,\n",
       " 'team_pooled_research': True,\n",
       " 'tech': 0,\n",
       " 'tech_cost_style': 1,\n",
       " 'tech_leak_pct': 100,\n",
       " 'tech_leakage': 0,\n",
       " 'tech_loss_allow_holes': True,\n",
       " 'tech_parasite_allow_holes': True,\n",
       " 'tech_steal_allow_holes': True,\n",
       " 'tech_trade_allow_holes': True,\n",
       " 'tech_trade_loss_allow_holes': True,\n",
       " 'tech_upkeep_divider': 2000,\n",
       " 'tech_upkeep_style': 0,\n",
       " 'techloss_forgiveness': -1,\n",
       " 'timeout': 0,\n",
       " 'tired_attack': False,\n",
       " 'trade_revenue_style': 0,\n",
       " 'trade_world_rel_pct': 50,\n",
       " 'trademindist': 9,\n",
       " 'trading_city': True,\n",
       " 'trading_gold': True,\n",
       " 'trading_tech': True,\n",
       " 'turn': 15,\n",
       " 'unreachable_protects': True,\n",
       " 'victory_conditions': 3,\n",
       " 'warminglevel': 10,\n",
       " 'year': -3300,\n",
       " 'year_0_hack': False}"
      ]
     },
     "execution_count": 9,
     "metadata": {},
     "output_type": "execute_result"
    }
   ],
   "source": [
    "state['rules']"
   ]
  },
  {
   "cell_type": "code",
   "execution_count": 137,
   "metadata": {},
   "outputs": [],
   "source": [
    "class RulesEngine():\n",
    "    def __init__(self, state):\n",
    "        self.num_attr = 0\n",
    "        self.key = None\n",
    "        self.attr = ['key']\n",
    "        for key in state:\n",
    "            setattr(self, key, state[key])\n",
    "            self.num_attr += 1\n",
    "            self.attr.append(key)"
   ]
  },
  {
   "cell_type": "code",
   "execution_count": 140,
   "metadata": {
    "scrolled": false
   },
   "outputs": [
    {
     "name": "stdout",
     "output_type": "stream",
     "text": [
      "key\n",
      "can_transport\n",
      "health\n",
      "home_city\n",
      "moves_left\n",
      "type_attack_strength\n",
      "type_build_cost\n",
      "type_convert_time\n",
      "type_converted_to\n",
      "type_defense_strength\n",
      "type_firepower\n",
      "type_hp\n",
      "type_move_rate\n",
      "type_rule_name\n",
      "type_vision_radius_sq\n",
      "type_worker\n",
      "upkeep_food\n",
      "upkeep_gold\n",
      "upkeep_shield\n",
      "veteran\n",
      "[*] Workers\n",
      "111\n"
     ]
    }
   ],
   "source": [
    "re = RulesEngine(state['unit']['111'])\n",
    "re.key = '111'\n",
    "for a in re.attr:\n",
    "    print(a)\n",
    "\n",
    "print('[*]',re.type_rule_name)\n",
    "print(re.key)"
   ]
  },
  {
   "cell_type": "code",
   "execution_count": 139,
   "metadata": {},
   "outputs": [
    {
     "name": "stdout",
     "output_type": "stream",
     "text": [
      "{'can_transport': False, 'health': 10, 'home_city': -1, 'moves_left': 3, 'type_attack_strength': 0, 'type_build_cost': 30, 'type_convert_time': 1, 'type_converted_to': 52, 'type_defense_strength': 1, 'type_firepower': 1, 'type_hp': 10, 'type_move_rate': 3, 'type_rule_name': 'Workers', 'type_vision_radius_sq': 2, 'type_worker': True, 'upkeep_food': 0, 'upkeep_gold': 0, 'upkeep_shield': 0, 'veteran': 0}\n"
     ]
    }
   ],
   "source": [
    "print(state['unit']['110'])"
   ]
  },
  {
   "cell_type": "code",
   "execution_count": null,
   "metadata": {},
   "outputs": [],
   "source": []
  },
  {
   "cell_type": "code",
   "execution_count": null,
   "metadata": {},
   "outputs": [],
   "source": []
  },
  {
   "cell_type": "code",
   "execution_count": null,
   "metadata": {},
   "outputs": [],
   "source": []
  },
  {
   "cell_type": "code",
   "execution_count": 49,
   "metadata": {},
   "outputs": [],
   "source": [
    "city_141 = list(state['city']['141'].keys())"
   ]
  },
  {
   "cell_type": "code",
   "execution_count": 50,
   "metadata": {
    "scrolled": false
   },
   "outputs": [],
   "source": [
    "city_158 = list(state['city']['158'].keys())"
   ]
  },
  {
   "cell_type": "code",
   "execution_count": 53,
   "metadata": {},
   "outputs": [
    {
     "data": {
      "text/plain": [
       "True"
      ]
     },
     "execution_count": 53,
     "metadata": {},
     "output_type": "execute_result"
    }
   ],
   "source": [
    "city_141 == city_158"
   ]
  },
  {
   "cell_type": "code",
   "execution_count": 76,
   "metadata": {},
   "outputs": [],
   "source": [
    "class CityInference():\n",
    "    def __init__(self, entries):\n",
    "        # entries is a dictionary\n",
    "        for k, v in entries.items():\n",
    "            setattr(self, k, v)"
   ]
  },
  {
   "cell_type": "code",
   "execution_count": 77,
   "metadata": {},
   "outputs": [],
   "source": [
    "ci_158 = CityInference(state['city'])"
   ]
  },
  {
   "cell_type": "code",
   "execution_count": 80,
   "metadata": {},
   "outputs": [
    {
     "ename": "AttributeError",
     "evalue": "'CityInference' object has no attribute 'bulbs'",
     "output_type": "error",
     "traceback": [
      "\u001b[0;31m---------------------------------------------------------------------------\u001b[0m",
      "\u001b[0;31mAttributeError\u001b[0m                            Traceback (most recent call last)",
      "\u001b[0;32m<ipython-input-80-c63c84767ddf>\u001b[0m in \u001b[0;36m<module>\u001b[0;34m()\u001b[0m\n\u001b[0;32m----> 1\u001b[0;31m \u001b[0mci_158\u001b[0m\u001b[0;34m.\u001b[0m\u001b[0mbulbs\u001b[0m\u001b[0;34m\u001b[0m\u001b[0m\n\u001b[0m",
      "\u001b[0;31mAttributeError\u001b[0m: 'CityInference' object has no attribute 'bulbs'"
     ]
    }
   ],
   "source": [
    "ci_158.bulbs"
   ]
  },
  {
   "cell_type": "code",
   "execution_count": 111,
   "metadata": {},
   "outputs": [],
   "source": [
    "# get the improvement dictionary\n",
    "impr2num = {}\n",
    "num2impr = {}\n",
    "\n",
    "for k in state['city']['158']:\n",
    "    if 'impr_int' in k:\n",
    "        # perform replacements\n",
    "        k_ = k.replace('.', '_')\n",
    "        k_ = k_.replace(' ', '_')\n",
    "        k_ = k_.replace(\"'\", '_')\n",
    "        k_ = k_.repace('int_', '_').lower()\n",
    "        \n",
    "        # get improvement numbers\n",
    "        num = int(k.split('_')[-1])\n",
    "        \n",
    "        # drop the numbers\n",
    "        if num > 9: k = k[:-3]\n",
    "        else: k = k[:-2]\n",
    "        \n",
    "        # add to dicts\n",
    "        impr2num.update({k: num})\n",
    "        num2impr.update({num: k})\n",
    "        \n",
    "    else:\n",
    "        not_imprs.append(k)\n",
    "        \n",
    "# establish the improvement array\n",
    "impr_array = [False for _ in range(len(impr2num))]"
   ]
  },
  {
   "cell_type": "code",
   "execution_count": 105,
   "metadata": {},
   "outputs": [],
   "source": [
    "impr2num = {}\n",
    "num2impr = {}\n",
    "for i in range(len(imprs)):\n",
    "    # format string\n",
    "    k = imprs[i].replace('.', '_')\n",
    "    k = k.replace(' ', '_')\n",
    "    k = k.replace(\"'\", '_')\n",
    "    k = k.replace('int_', '').lower()\n",
    "    \n",
    "    # get number of improvement\n",
    "    num = int(k.split('_')[-1])\n",
    "    \n",
    "    # drop last numbers\n",
    "    if num > 9: k = k[:-3]\n",
    "    else: k = k[:-2]\n",
    "        \n",
    "    # add to dicts\n",
    "    impr2num.update({k: num})\n",
    "    num2impr.update({num: k})\n",
    "    "
   ]
  },
  {
   "cell_type": "code",
   "execution_count": 114,
   "metadata": {},
   "outputs": [
    {
     "data": {
      "text/plain": [
       "[\"impr_int_A.Smith's Trading Co._40\",\n",
       " 'impr_int_Airport_0',\n",
       " 'impr_int_Apollo Program_39',\n",
       " 'impr_int_Aqueduct_1',\n",
       " 'impr_int_Bank_2',\n",
       " 'impr_int_Barracks III_5',\n",
       " 'impr_int_Barracks II_4',\n",
       " 'impr_int_Barracks_3',\n",
       " 'impr_int_Cathedral_6',\n",
       " 'impr_int_City Walls_7',\n",
       " 'impr_int_Coastal Defense_8',\n",
       " 'impr_int_Coinage_67',\n",
       " 'impr_int_Colosseum_9',\n",
       " 'impr_int_Colossus_41',\n",
       " \"impr_int_Copernicus' Observatory_42\",\n",
       " 'impr_int_Courthouse_10',\n",
       " 'impr_int_Cure For Cancer_43',\n",
       " \"impr_int_Darwin's Voyage_44\",\n",
       " 'impr_int_Eiffel Tower_45',\n",
       " 'impr_int_Factory_11',\n",
       " 'impr_int_Granary_12',\n",
       " 'impr_int_Great Library_46',\n",
       " 'impr_int_Great Wall_47',\n",
       " 'impr_int_Hanging Gardens_48',\n",
       " 'impr_int_Harbor_13',\n",
       " 'impr_int_Hoover Dam_49',\n",
       " 'impr_int_Hydro Plant_14',\n",
       " \"impr_int_Isaac Newton's College_50\",\n",
       " \"impr_int_J.S. Bach's Cathedral_51\",\n",
       " \"impr_int_King Richard's Crusade_52\",\n",
       " \"impr_int_Leonardo's Workshop_53\",\n",
       " 'impr_int_Library_15',\n",
       " 'impr_int_Lighthouse_54',\n",
       " \"impr_int_Magellan's Expedition_55\",\n",
       " 'impr_int_Manhattan Project_56',\n",
       " \"impr_int_Marco Polo's Embassy_57\",\n",
       " 'impr_int_Marketplace_16',\n",
       " 'impr_int_Mass Transit_17',\n",
       " 'impr_int_Mfg. Plant_18',\n",
       " \"impr_int_Michelangelo's Chapel_58\",\n",
       " 'impr_int_Nuclear Plant_19',\n",
       " 'impr_int_Offshore Platform_20',\n",
       " 'impr_int_Oracle_59',\n",
       " 'impr_int_Palace_21',\n",
       " 'impr_int_Police Station_22',\n",
       " 'impr_int_Port Facility_23',\n",
       " 'impr_int_Power Plant_24',\n",
       " 'impr_int_Pyramids_60',\n",
       " 'impr_int_Recycling Center_25',\n",
       " 'impr_int_Research Lab_26',\n",
       " 'impr_int_SAM Battery_27',\n",
       " 'impr_int_SDI Defense_28',\n",
       " 'impr_int_SETI Program_61',\n",
       " 'impr_int_Sewer System_29',\n",
       " \"impr_int_Shakespeare's Theater_62\",\n",
       " 'impr_int_Solar Plant_30',\n",
       " 'impr_int_Space Component_31',\n",
       " 'impr_int_Space Module_32',\n",
       " 'impr_int_Space Structural_33',\n",
       " 'impr_int_Statue of Liberty_63',\n",
       " 'impr_int_Stock Exchange_34',\n",
       " \"impr_int_Sun Tzu's War Academy_64\",\n",
       " 'impr_int_Super Highways_35',\n",
       " 'impr_int_Supermarket_36',\n",
       " 'impr_int_Temple_37',\n",
       " 'impr_int_United Nations_65',\n",
       " 'impr_int_University_38',\n",
       " \"impr_int_Women's Suffrage_66\"]"
      ]
     },
     "execution_count": 114,
     "metadata": {},
     "output_type": "execute_result"
    }
   ],
   "source": [
    "imprs"
   ]
  },
  {
   "cell_type": "code",
   "execution_count": 107,
   "metadata": {},
   "outputs": [
    {
     "data": {
      "text/plain": [
       "{'impr_a_smith_s_trading_co_': 40,\n",
       " 'impr_airport': 0,\n",
       " 'impr_apollo_program': 39,\n",
       " 'impr_aqueduct': 1,\n",
       " 'impr_bank': 2,\n",
       " 'impr_barracks_iii': 5,\n",
       " 'impr_barracks_ii': 4,\n",
       " 'impr_barracks': 3,\n",
       " 'impr_cathedral': 6,\n",
       " 'impr_city_walls': 7,\n",
       " 'impr_coastal_defense': 8,\n",
       " 'impr_coinage': 67,\n",
       " 'impr_colosseum': 9,\n",
       " 'impr_colossus': 41,\n",
       " 'impr_copernicus__observatory': 42,\n",
       " 'impr_courthouse': 10,\n",
       " 'impr_cure_for_cancer': 43,\n",
       " 'impr_darwin_s_voyage': 44,\n",
       " 'impr_eiffel_tower': 45,\n",
       " 'impr_factory': 11,\n",
       " 'impr_granary': 12,\n",
       " 'impr_great_library': 46,\n",
       " 'impr_great_wall': 47,\n",
       " 'impr_hanging_gardens': 48,\n",
       " 'impr_harbor': 13,\n",
       " 'impr_hoover_dam': 49,\n",
       " 'impr_hydro_plant': 14,\n",
       " 'impr_isaac_newton_s_college': 50,\n",
       " 'impr_j_s__bach_s_cathedral': 51,\n",
       " 'impr_king_richard_s_crusade': 52,\n",
       " 'impr_leonardo_s_workshop': 53,\n",
       " 'impr_library': 15,\n",
       " 'impr_lighthouse': 54,\n",
       " 'impr_magellan_s_expedition': 55,\n",
       " 'impr_manhattan_project': 56,\n",
       " 'impr_marco_polo_s_embassy': 57,\n",
       " 'impr_marketplace': 16,\n",
       " 'impr_mass_transit': 17,\n",
       " 'impr_mfg__plant': 18,\n",
       " 'impr_michelangelo_s_chapel': 58,\n",
       " 'impr_nuclear_plant': 19,\n",
       " 'impr_offshore_platform': 20,\n",
       " 'impr_oracle': 59,\n",
       " 'impr_palace': 21,\n",
       " 'impr_police_station': 22,\n",
       " 'impr_port_facility': 23,\n",
       " 'impr_power_plant': 24,\n",
       " 'impr_pyramids': 60,\n",
       " 'impr_recycling_center': 25,\n",
       " 'impr_research_lab': 26,\n",
       " 'impr_sam_battery': 27,\n",
       " 'impr_sdi_defense': 28,\n",
       " 'impr_seti_program': 61,\n",
       " 'impr_sewer_system': 29,\n",
       " 'impr_shakespeare_s_theater': 62,\n",
       " 'impr_solar_plant': 30,\n",
       " 'impr_space_component': 31,\n",
       " 'impr_space_module': 32,\n",
       " 'impr_space_structural': 33,\n",
       " 'impr_statue_of_liberty': 63,\n",
       " 'impr_stock_exchange': 34,\n",
       " 'impr_sun_tzu_s_war_academy': 64,\n",
       " 'impr_super_highways': 35,\n",
       " 'impr_supermarket': 36,\n",
       " 'impr_temple': 37,\n",
       " 'impr_united_nations': 65,\n",
       " 'impr_university': 38,\n",
       " 'impr_women_s_suffrage': 66}"
      ]
     },
     "execution_count": 107,
     "metadata": {},
     "output_type": "execute_result"
    }
   ],
   "source": [
    "impr2num"
   ]
  },
  {
   "cell_type": "markdown",
   "metadata": {},
   "source": [
    "## Maps Maps Maps"
   ]
  },
  {
   "cell_type": "code",
   "execution_count": 58,
   "metadata": {},
   "outputs": [
    {
     "name": "stdout",
     "output_type": "stream",
     "text": [
      "(84, 56)\n"
     ]
    },
    {
     "data": {
      "text/plain": [
       "<matplotlib.image.AxesImage at 0x10dbe4c50>"
      ]
     },
     "execution_count": 58,
     "metadata": {},
     "output_type": "execute_result"
    },
    {
     "data": {
      "image/png": "[encoded data removed]",
      "text/plain": [
       "<Figure size 720x720 with 1 Axes>"
      ]
     },
     "metadata": {},
     "output_type": "display_data"
    }
   ],
   "source": [
    "map_status = state['map']['status']\n",
    "map_status = np.array(map_status)\n",
    "print(map_status.shape)\n",
    "# vis\n",
    "plt.figure(figsize = (10, 10))\n",
    "plt.imshow(map_status)"
   ]
  },
  {
   "cell_type": "code",
   "execution_count": 84,
   "metadata": {},
   "outputs": [
    {
     "name": "stdout",
     "output_type": "stream",
     "text": [
      "(84, 56)\n"
     ]
    },
    {
     "data": {
      "text/plain": [
       "<matplotlib.image.AxesImage at 0x11452da90>"
      ]
     },
     "execution_count": 84,
     "metadata": {},
     "output_type": "execute_result"
    },
    {
     "data": {
      "image/png": "[encoded data removed]",
      "text/plain": [
       "<Figure size 720x720 with 1 Axes>"
      ]
     },
     "metadata": {},
     "output_type": "display_data"
    }
   ],
   "source": [
    "map_terrain = state['map']['terrain']\n",
    "map_terrain = np.array(map_terrain)\n",
    "print(map_terrain.shape)\n",
    "# vis\n",
    "plt.figure(figsize = (10, 10))\n",
    "plt.imshow(map_terrain)"
   ]
  },
  {
   "cell_type": "code",
   "execution_count": 86,
   "metadata": {
    "scrolled": false
   },
   "outputs": [
    {
     "name": "stdout",
     "output_type": "stream",
     "text": [
      "(84, 56)\n"
     ]
    },
    {
     "data": {
      "text/plain": [
       "<matplotlib.image.AxesImage at 0x114eb3d68>"
      ]
     },
     "execution_count": 86,
     "metadata": {},
     "output_type": "execute_result"
    },
    {
     "data": {
      "image/png": "[encoded data removed]",
      "text/plain": [
       "<Figure size 720x720 with 1 Axes>"
      ]
     },
     "metadata": {},
     "output_type": "display_data"
    }
   ],
   "source": [
    "# vis\n",
    "print(map_terrain.shape)\n",
    "plt.figure(figsize = (10, 10))\n",
    "plt.imshow(map_terrain[45:48])"
   ]
  },
  {
   "cell_type": "code",
   "execution_count": 74,
   "metadata": {},
   "outputs": [
    {
     "data": {
      "text/plain": [
       "array([0., 0., 0., 0., 0., 0., 0., 0., 0., 0., 1., 2., 2., 2., 0., 0., 0.,\n",
       "       0., 0., 0., 0., 0., 0., 0., 0., 0., 0., 0., 0., 0., 0., 0., 0., 0.,\n",
       "       0., 0., 0., 0., 0., 0., 0., 0., 0., 0., 0., 0., 0., 0., 0., 0., 0.,\n",
       "       0., 0., 0., 0., 0.])"
      ]
     },
     "execution_count": 74,
     "metadata": {},
     "output_type": "execute_result"
    }
   ],
   "source": [
    "map_status[82]"
   ]
  },
  {
   "cell_type": "code",
   "execution_count": 36,
   "metadata": {},
   "outputs": [
    {
     "name": "stdout",
     "output_type": "stream",
     "text": [
      "(84, 56, 128)\n"
     ]
    },
    {
     "data": {
      "text/plain": [
       "<matplotlib.image.AxesImage at 0x10998e7b8>"
      ]
     },
     "execution_count": 36,
     "metadata": {},
     "output_type": "execute_result"
    },
    {
     "data": {
      "image/png": "[encoded data removed]",
      "text/plain": [
       "<Figure size 720x720 with 1 Axes>"
      ]
     },
     "metadata": {},
     "output_type": "display_data"
    }
   ],
   "source": [
    "map_extras = state['map']['extras']\n",
    "map_extras = np.array(map_extras)\n",
    "print(map_extras.shape)\n",
    "# vis\n",
    "plt.figure(figsize = (10, 10))\n",
    "plt.imshow(map_extras[5])"
   ]
  },
  {
   "cell_type": "markdown",
   "metadata": {},
   "source": [
    "I still have a bot of confusion when it comes to using the maps, in particular `status` maps. `status` is equivalent of `holding` that I had. Will go over the various timesteps from the 18 turn game and see how it changes and the gradual development. This is giving me ideas for having a `make_map_gif()` function to make the map growth into a video or GIF."
   ]
  },
  {
   "cell_type": "code",
   "execution_count": 87,
   "metadata": {},
   "outputs": [],
   "source": [
    "from glob import glob"
   ]
  },
  {
   "cell_type": "code",
   "execution_count": 121,
   "metadata": {},
   "outputs": [
    {
     "name": "stdout",
     "output_type": "stream",
     "text": [
      "./examples/observation_turn00_agentAct0001_map_extras.npy\n",
      "./examples/observation_turn00_agentAct0001_map_status.npy\n",
      "./examples/observation_turn00_agentAct0001_map_terrain.npy\n",
      "./examples/observation_turn00_agentAct0002_map_extras.npy\n",
      "./examples/observation_turn00_agentAct0002_map_status.npy\n",
      "./examples/observation_turn00_agentAct0002_map_terrain.npy\n",
      "./examples/observation_turn00_agentAct0003_map_extras.npy\n",
      "./examples/observation_turn00_agentAct0003_map_status.npy\n",
      "./examples/observation_turn00_agentAct0003_map_terrain.npy\n",
      "./examples/observation_turn00_agentAct0004_map_extras.npy\n",
      "./examples/observation_turn00_agentAct0004_map_status.npy\n",
      "./examples/observation_turn00_agentAct0004_map_terrain.npy\n",
      "./examples/observation_turn00_agentAct0005_map_extras.npy\n",
      "./examples/observation_turn00_agentAct0005_map_status.npy\n",
      "./examples/observation_turn00_agentAct0005_map_terrain.npy\n",
      "./examples/observation_turn00_agentAct0006_map_extras.npy\n",
      "./examples/observation_turn00_agentAct0006_map_status.npy\n",
      "./examples/observation_turn00_agentAct0006_map_terrain.npy\n",
      "./examples/observation_turn00_agentAct0007_map_extras.npy\n",
      "./examples/observation_turn00_agentAct0007_map_status.npy\n",
      "./examples/observation_turn00_agentAct0007_map_terrain.npy\n",
      "./examples/observation_turn00_agentAct0008_map_extras.npy\n",
      "./examples/observation_turn00_agentAct0008_map_status.npy\n",
      "./examples/observation_turn00_agentAct0008_map_terrain.npy\n"
     ]
    }
   ],
   "source": [
    "# import all the files\n",
    "sa_files_all = glob('./examples/*.npy')\n",
    "\n",
    "# clustering the files based on turns\n",
    "turn_clus_files = [[] for _ in range(18)]\n",
    "for f in sa_files_all:\n",
    "    turn_num = int(f.split('_')[1][-2:])\n",
    "    turn_clus_files[turn_num].append(f)\n",
    "\n",
    "for i in range(len(turn_clus_files)):\n",
    "    turn_clus_files[i] = sorted(turn_clus_files[i])\n",
    "\n",
    "for f in turn_clus_files[0]:\n",
    "    print(f)"
   ]
  },
  {
   "cell_type": "code",
   "execution_count": 126,
   "metadata": {},
   "outputs": [],
   "source": [
    "# going over turn 0 and seeing the growth of status map over time\n",
    "map_status = []\n",
    "for turn in turn_clus_files:\n",
    "    for f in turn:\n",
    "        if f.split('_')[-1] == 'status.npy':\n",
    "            mps = np.load(f)\n",
    "            map_status.append(mps)"
   ]
  },
  {
   "cell_type": "code",
   "execution_count": 136,
   "metadata": {},
   "outputs": [
    {
     "data": {
      "image/png": "[encoded data removed]",
      "text/plain": [
       "<Figure size 1080x1080 with 36 Axes>"
      ]
     },
     "metadata": {},
     "output_type": "display_data"
    }
   ],
   "source": [
    "fig = plt.figure(figsize = (15, 15))\n",
    "\n",
    "col = 6\n",
    "row = 6\n",
    "\n",
    "for i in range(col*row):\n",
    "    fig.add_subplot(row, col, i+1)\n",
    "    plt.imshow(map_status[i*3])\n",
    "    plt.title('move '+ str(i))"
   ]
  },
  {
   "cell_type": "code",
   "execution_count": null,
   "metadata": {},
   "outputs": [],
   "source": []
  },
  {
   "cell_type": "code",
   "execution_count": null,
   "metadata": {},
   "outputs": [],
   "source": []
  },
  {
   "cell_type": "code",
   "execution_count": null,
   "metadata": {},
   "outputs": [],
   "source": []
  },
  {
   "cell_type": "code",
   "execution_count": null,
   "metadata": {},
   "outputs": [],
   "source": []
  },
  {
   "cell_type": "markdown",
   "metadata": {},
   "source": [
    "## Action"
   ]
  },
  {
   "cell_type": "code",
   "execution_count": 43,
   "metadata": {},
   "outputs": [],
   "source": [
    "action = open('./example_observations_actions.json').read()\n",
    "action = json.loads(action)"
   ]
  },
  {
   "cell_type": "code",
   "execution_count": 44,
   "metadata": {},
   "outputs": [
    {
     "data": {
      "text/plain": [
       "dict_keys(['city', 'client', 'dipl', 'game', 'gov', 'map', 'options', 'player', 'rules', 'tech', 'unit'])"
      ]
     },
     "execution_count": 44,
     "metadata": {},
     "output_type": "execute_result"
    }
   ],
   "source": [
    "action.keys()"
   ]
  },
  {
   "cell_type": "code",
   "execution_count": 46,
   "metadata": {},
   "outputs": [
    {
     "data": {
      "text/plain": [
       "dict_keys(['110', '111', '112', '150', '157', '159', '160', '161', '162', '163', '168', '169', '171'])"
      ]
     },
     "execution_count": 46,
     "metadata": {},
     "output_type": "execute_result"
    }
   ],
   "source": [
    "action['unit'].keys()"
   ]
  },
  {
   "cell_type": "code",
   "execution_count": 48,
   "metadata": {
    "scrolled": false
   },
   "outputs": [
    {
     "data": {
      "text/plain": [
       "{'airbase': False,\n",
       " 'airlift': False,\n",
       " 'autosettlers': True,\n",
       " 'build': False,\n",
       " 'disband': True,\n",
       " 'explore': False,\n",
       " 'fallout': False,\n",
       " 'forest': False,\n",
       " 'fortify': False,\n",
       " 'fortress': False,\n",
       " 'goto_0': True,\n",
       " 'goto_1': True,\n",
       " 'goto_2': True,\n",
       " 'goto_3': True,\n",
       " 'goto_4': True,\n",
       " 'goto_5': True,\n",
       " 'goto_6': True,\n",
       " 'goto_7': True,\n",
       " 'homecity': False,\n",
       " 'irrigation': False,\n",
       " 'mine': False,\n",
       " 'noorders': False,\n",
       " 'paradrop': False,\n",
       " 'pillage': False,\n",
       " 'pollution': False,\n",
       " 'railroad': False,\n",
       " 'road': False,\n",
       " 'transform': False,\n",
       " 'unit_load': False,\n",
       " 'unit_unload': False,\n",
       " 'upgrade': False}"
      ]
     },
     "execution_count": 48,
     "metadata": {},
     "output_type": "execute_result"
    }
   ],
   "source": [
    "action['unit']['111']"
   ]
  },
  {
   "cell_type": "code",
   "execution_count": 22,
   "metadata": {},
   "outputs": [
    {
     "data": {
      "text/plain": [
       "{}"
      ]
     },
     "execution_count": 22,
     "metadata": {},
     "output_type": "execute_result"
    }
   ],
   "source": [
    "action['game']"
   ]
  }
 ],
 "metadata": {
  "kernelspec": {
   "display_name": "Python 3",
   "language": "python",
   "name": "python3"
  }
 },
 "nbformat": 4,
 "nbformat_minor": 2
}
