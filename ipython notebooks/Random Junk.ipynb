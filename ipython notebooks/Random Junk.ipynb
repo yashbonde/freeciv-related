{
 "cells": [
  {
   "cell_type": "code",
   "execution_count": 1,
   "metadata": {},
   "outputs": [],
   "source": [
    "'''\n",
    "Random Junk Notebook\n",
    "'''\n",
    "\n",
    "import numpy as np\n",
    "import ast"
   ]
  },
  {
   "cell_type": "code",
   "execution_count": 55,
   "metadata": {},
   "outputs": [],
   "source": [
    "path = '/Users/yashbonde/Desktop/AI/RL/freeciv-python/scenarios/sample.fccfg'\n",
    "key_list = ['XSIZE', 'YSIZE', 'PINGTIME', 'PINGTIMEOUT']"
   ]
  },
  {
   "cell_type": "code",
   "execution_count": 59,
   "metadata": {},
   "outputs": [],
   "source": [
    "def read_config_from_file(path, key_list):\n",
    "    with open(path, encoding = 'utf-8') as f:\n",
    "        lines = f.readlines()\n",
    "    \n",
    "    num_lines = 0\n",
    "    key2val = {}\n",
    "    for l in lines:\n",
    "        if l[0:2] == '//' or l[0] == '\\n' or l[0] == '$':\n",
    "            continue\n",
    "        tok = l.split('=')\n",
    "        key, val_ = tok[0].split()[0], tok[1]\n",
    "        val = ast.literal_eval(val_.split()[0])\n",
    "        \n",
    "        if key not in key_list:\n",
    "            raise ValueError('Incorrect Config File. key: {0} not found!'.format(key))\n",
    "            \n",
    "        key2val.update({key: val})\n",
    "        \n",
    "        num_lines += 1\n",
    "        \n",
    "    if num_lines != len(key_list):\n",
    "        raise ValueError('Incorrect fonfig file. Minimum requirements not fullfilled')\n",
    "                \n",
    "    return key2val"
   ]
  },
  {
   "cell_type": "code",
   "execution_count": 60,
   "metadata": {},
   "outputs": [],
   "source": [
    "read_config_from_file(path, key_list)"
   ]
  },
  {
   "cell_type": "code",
   "execution_count": 5,
   "metadata": {
    "scrolled": true
   },
   "outputs": [
    {
     "name": "stdout",
     "output_type": "stream",
     "text": [
      "# config file\n",
      "# this is a comment in the config file\n",
      "\n",
      "XSIZE = 43\n",
      "YSIZE = 43 # this is the comment\n",
      "AIFILL = 4\n"
     ]
    }
   ],
   "source": [
    "text = '''# config file\n",
    "# this is a comment in the config file\n",
    "\n",
    "XSIZE = 43\n",
    "YSIZE = 43 # this is the comment\n",
    "AIFILL = 4'''\n",
    "\n",
    "lines = text.split('\\n')\n",
    "for l in lines:\n",
    "    print(l)"
   ]
  },
  {
   "cell_type": "code",
   "execution_count": 62,
   "metadata": {},
   "outputs": [
    {
     "name": "stdout",
     "output_type": "stream",
     "text": [
      "['XSIZE']\n",
      "['43']\n"
     ]
    }
   ],
   "source": [
    "text_ = 'XSIZE = 43'\n",
    "lines = text_.split('=')\n",
    "for l in lines:\n",
    "    print(l.split())"
   ]
  },
  {
   "cell_type": "code",
   "execution_count": null,
   "metadata": {},
   "outputs": [],
   "source": []
  }
 ],
 "metadata": {
  "kernelspec": {
   "display_name": "Python 3",
   "language": "python",
   "name": "python3"
  },
  "language_info": {
   "codemirror_mode": {
    "name": "ipython",
    "version": 3
   },
   "file_extension": ".py",
   "mimetype": "text/x-python",
   "name": "python",
   "nbconvert_exporter": "python",
   "pygments_lexer": "ipython3",
   "version": "3.6.5"
  }
 },
 "nbformat": 4,
 "nbformat_minor": 2
}
