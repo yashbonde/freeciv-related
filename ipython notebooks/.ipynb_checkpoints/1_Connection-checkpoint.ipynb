{
 "cells": [
  {
   "cell_type": "markdown",
   "metadata": {},
   "source": [
    "# Freeciv Connection\n",
    "\n",
    "For this iteration I am trying to connect to the freeciv-desktop server running locally on my machine. This notebook is written to establish rules for connection and how to work further in establishing the communication side. Once this part is established we can proceed to using of information and then eventual deep learning support. This also happens to be the first step and thus the name `1_Connection.ipynb`\n",
    "\n",
    "## Goals\n",
    "\n",
    "Goals for this notebook are simple:\n",
    "1. establish connection to freeciv-server running locally\n",
    "2. transfer relevant information and document the signals\n",
    "3. establish how to use those signals in the most effective manner possible"
   ]
  },
  {
   "cell_type": "markdown",
   "metadata": {},
   "source": [
    "## LOGS\n",
    "\n",
    "**29.12.2018:** Start writing this notebook."
   ]
  },
  {
   "cell_type": "markdown",
   "metadata": {},
   "source": [
    "## Basics\n",
    "\n",
    "What I need to first start with is learning how to communicate with the locally running server. In another implementation for connecting to freeciv server that I read `tornado` was used to communicate, though that might have handled the job well, this thing is very new to me. I am starting by using sockets, which is what is used to connect two nodes. One node listens to a particular IP and node while the other node sends out information to connect to the node.\n",
    "\n",
    "Here we first make the socket, then resolve host IP and then connect to it from a particular port. [IBM](https://developer.ibm.com/tutorials/l-pysocks/) has a great tutorial on it."
   ]
  },
  {
   "cell_type": "code",
   "execution_count": 1,
   "metadata": {},
   "outputs": [],
   "source": [
    "# importing the dependencies\n",
    "import socket"
   ]
  },
  {
   "cell_type": "code",
   "execution_count": 2,
   "metadata": {},
   "outputs": [
    {
     "name": "stdout",
     "output_type": "stream",
     "text": [
      "Socket successfully created\n",
      "the socket has successfully connected to IBM on port == 104.120.84.241\n"
     ]
    }
   ],
   "source": [
    "# establish socket\n",
    "try: \n",
    "    s = socket.socket(socket.AF_INET, socket.SOCK_STREAM) \n",
    "    print(\"Socket successfully created\")\n",
    "except socket.error as err: \n",
    "    print(\"socket creation failed with error:\", err) \n",
    "    \n",
    "# default port for socket \n",
    "port = 80\n",
    "  \n",
    "try: \n",
    "    host_ip = socket.gethostbyname('www.ibm.com')\n",
    "except socket.gaierror:\n",
    "    # this means could not resolve the host \n",
    "    print(\"there was an error resolving the host\")\n",
    "    \n",
    "# connecting to the server \n",
    "s.connect((host_ip, port)) \n",
    "\n",
    "print(\"the socket has successfully connected to IBM on port ==\", host_ip)\n",
    "s.close()"
   ]
  },
  {
   "cell_type": "markdown",
   "metadata": {},
   "source": [
    "### Connecting to freeciv\n",
    "\n",
    "I have a freeciv-desktop server running locally on my system at `port 5000` this is what I am genereally running it on to avoid any ambiguity. Note that the `--debug=4` and we are getting information from the log dumps, one for server and one for client."
   ]
  },
  {
   "cell_type": "code",
   "execution_count": 7,
   "metadata": {},
   "outputs": [],
   "source": [
    "# establish socket\n",
    "try: \n",
    "    s = socket.socket(socket.AF_INET, socket.SOCK_STREAM)\n",
    "except socket.error as err: \n",
    "    print(\"socket creation failed with error:\", err)\n",
    "    \n",
    "# port\n",
    "PORT_FC = 5000\n",
    "\n",
    "# connection\n",
    "s.connect((socket.gethostbyname('localhost'), PORT_FC))"
   ]
  },
  {
   "cell_type": "markdown",
   "metadata": {},
   "source": [
    "We were able to connect and are getting response like this (from server log):\n",
    "\n",
    "```\n",
    "4: in server_sniff_all_input() [sernet.c::766]: got new connection\n",
    "4: in server_make_connection() [sernet.c::1073]: connection (c8) from localhost (127.0.0.1)\n",
    "4: in server_sniff_all_input() [sernet.c::629]: connection (c8 from localhost (connection incomplete)) cut due to ping timeout\n",
    "```"
   ]
  },
  {
   "cell_type": "markdown",
   "metadata": {},
   "source": [
    "#### PACKET STRUCTURE\n",
    "\n",
    "All the packet related information is given in the file `packets.def` including structure of different packets and in the order the packets should be sent. This notebook has many details directly copied from the file."
   ]
  },
  {
   "cell_type": "code",
   "execution_count": 9,
   "metadata": {},
   "outputs": [
    {
     "ename": "AttributeError",
     "evalue": "'socket' object has no attribute 'read'",
     "output_type": "error",
     "traceback": [
      "\u001b[0;31m---------------------------------------------------------------------------\u001b[0m",
      "\u001b[0;31mAttributeError\u001b[0m                            Traceback (most recent call last)",
      "\u001b[0;32m<ipython-input-9-0a07129c2c10>\u001b[0m in \u001b[0;36m<module>\u001b[0;34m()\u001b[0m\n\u001b[0;32m----> 1\u001b[0;31m \u001b[0mall_\u001b[0m \u001b[0;34m=\u001b[0m \u001b[0ms\u001b[0m\u001b[0;34m.\u001b[0m\u001b[0mread\u001b[0m\u001b[0;34m(\u001b[0m\u001b[0;34m)\u001b[0m\u001b[0;34m\u001b[0m\u001b[0m\n\u001b[0m",
      "\u001b[0;31mAttributeError\u001b[0m: 'socket' object has no attribute 'read'"
     ]
    }
   ],
   "source": [
    "all_ = s.read()"
   ]
  },
  {
   "cell_type": "code",
   "execution_count": null,
   "metadata": {},
   "outputs": [],
   "source": []
  }
 ],
 "metadata": {
  "kernelspec": {
   "display_name": "Python 3",
   "language": "python",
   "name": "python3"
  },
  "language_info": {
   "codemirror_mode": {
    "name": "ipython",
    "version": 3
   },
   "file_extension": ".py",
   "mimetype": "text/x-python",
   "name": "python",
   "nbconvert_exporter": "python",
   "pygments_lexer": "ipython3",
   "version": "3.6.5"
  }
 },
 "nbformat": 4,
 "nbformat_minor": 2
}
