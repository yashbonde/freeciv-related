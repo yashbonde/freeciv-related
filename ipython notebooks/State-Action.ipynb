{
 "cells": [
  {
   "cell_type": "markdown",
   "metadata": {},
   "source": [
    "# State Action Notebook\n",
    "\n",
    "This is the notebook for all the state/action JSONs from Christian."
   ]
  },
  {
   "cell_type": "code",
   "execution_count": 2,
   "metadata": {},
   "outputs": [],
   "source": [
    "# importing the dependencies\n",
    "import numpy as np\n",
    "import json\n",
    "from glob import glob\n",
    "import matplotlib.pyplot as plt\n",
    "%matplotlib inline"
   ]
  },
  {
   "cell_type": "code",
   "execution_count": 21,
   "metadata": {},
   "outputs": [
    {
     "name": "stdout",
     "output_type": "stream",
     "text": [
      "./examples/observation_turn04_agentAct0041_nextAction.json\n",
      "./examples/observation_turn04_agentAct0039_actions.json\n",
      "./examples/observation_turn04_agentAct0041_state.json\n",
      "./examples/observation_turn04_agentAct0038_actions.json\n",
      "./examples/observation_turn04_agentAct0037_state.json\n",
      "./examples/observation_turn04_agentAct0035_actions.json\n",
      "./examples/observation_turn04_agentAct0040_nextAction.json\n",
      "./examples/observation_turn04_agentAct0038_state.json\n",
      "./examples/observation_turn04_agentAct0035_nextAction.json\n",
      "./examples/observation_turn04_agentAct0035_state.json\n",
      "./examples/observation_turn04_agentAct0040_actions.json\n",
      "./examples/observation_turn04_agentAct0036_actions.json\n",
      "./examples/observation_turn04_agentAct0036_state.json\n",
      "./examples/observation_turn04_agentAct0041_actions.json\n",
      "./examples/observation_turn04_agentAct0038_nextAction.json\n",
      "./examples/observation_turn04_agentAct0037_nextAction.json\n",
      "./examples/observation_turn04_agentAct0037_actions.json\n",
      "./examples/observation_turn04_agentAct0040_state.json\n",
      "./examples/observation_turn04_agentAct0039_state.json\n",
      "./examples/observation_turn04_agentAct0039_nextAction.json\n",
      "./examples/observation_turn04_agentAct0036_nextAction.json\n"
     ]
    }
   ],
   "source": [
    "# import all the files\n",
    "sa_files_all = glob('./examples/*.json')\n",
    "\n",
    "# clustering the files based on turns\n",
    "turn_clus_files = [[] for _ in range(18)]\n",
    "for f in sa_files_all:\n",
    "    turn_num = int(f.split('_')[1][-2:])\n",
    "    turn_clus_files[turn_num].append(f)\n",
    "    \n",
    "for f in turn_clus_files[4]:\n",
    "    print(f)"
   ]
  },
  {
   "cell_type": "markdown",
   "metadata": {},
   "source": [
    "### Looking at step 0"
   ]
  },
  {
   "cell_type": "code",
   "execution_count": 27,
   "metadata": {},
   "outputs": [
    {
     "name": "stdout",
     "output_type": "stream",
     "text": [
      "./examples/observation_turn00_agentAct0001_actions.json\n",
      "./examples/observation_turn00_agentAct0001_nextAction.json\n",
      "./examples/observation_turn00_agentAct0001_state.json\n",
      "./examples/observation_turn00_agentAct0002_actions.json\n",
      "./examples/observation_turn00_agentAct0002_nextAction.json\n",
      "./examples/observation_turn00_agentAct0002_state.json\n",
      "./examples/observation_turn00_agentAct0003_actions.json\n",
      "./examples/observation_turn00_agentAct0003_nextAction.json\n",
      "./examples/observation_turn00_agentAct0003_state.json\n",
      "./examples/observation_turn00_agentAct0004_actions.json\n",
      "./examples/observation_turn00_agentAct0004_nextAction.json\n",
      "./examples/observation_turn00_agentAct0004_state.json\n",
      "./examples/observation_turn00_agentAct0005_actions.json\n",
      "./examples/observation_turn00_agentAct0005_nextAction.json\n",
      "./examples/observation_turn00_agentAct0005_state.json\n",
      "./examples/observation_turn00_agentAct0006_actions.json\n",
      "./examples/observation_turn00_agentAct0006_nextAction.json\n",
      "./examples/observation_turn00_agentAct0006_state.json\n",
      "./examples/observation_turn00_agentAct0007_actions.json\n",
      "./examples/observation_turn00_agentAct0007_nextAction.json\n",
      "./examples/observation_turn00_agentAct0007_state.json\n",
      "./examples/observation_turn00_agentAct0008_actions.json\n",
      "./examples/observation_turn00_agentAct0008_nextAction.json\n",
      "./examples/observation_turn00_agentAct0008_state.json\n"
     ]
    }
   ],
   "source": [
    "# sorting\n",
    "turn_clus_files[0] = sorted(turn_clus_files[0])\n",
    "\n",
    "for f in turn_clus_files[0]:\n",
    "    print(f)"
   ]
  },
  {
   "cell_type": "code",
   "execution_count": 36,
   "metadata": {},
   "outputs": [
    {
     "name": "stdout",
     "output_type": "stream",
     "text": [
      "Opening... ./examples/observation_turn00_agentAct0001_state.json\n",
      "dict_keys(['city', 'client', 'dipl', 'game', 'gov', 'map', 'options', 'player', 'rules', 'tech', 'unit'])\n"
     ]
    }
   ],
   "source": [
    "f = turn_clus_files[0][2]\n",
    "print(\"Opening...\", f)\n",
    "j_ = open(f)\n",
    "j_ = json.load(j_)\n",
    "print(j_.keys())"
   ]
  },
  {
   "cell_type": "code",
   "execution_count": null,
   "metadata": {},
   "outputs": [],
   "source": []
  }
 ],
 "metadata": {
  "kernelspec": {
   "display_name": "Python 3",
   "language": "python",
   "name": "python3"
  },
  "language_info": {
   "codemirror_mode": {
    "name": "ipython",
    "version": 3
   },
   "file_extension": ".py",
   "mimetype": "text/x-python",
   "name": "python",
   "nbconvert_exporter": "python",
   "pygments_lexer": "ipython3",
   "version": "3.6.5"
  }
 },
 "nbformat": 4,
 "nbformat_minor": 2
}
